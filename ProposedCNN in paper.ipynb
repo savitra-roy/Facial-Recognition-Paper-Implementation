{
 "cells": [
  {
   "cell_type": "code",
   "execution_count": 1,
   "id": "0db75aae-7199-4d5f-ae96-8e861f29262a",
   "metadata": {},
   "outputs": [],
   "source": [
    "import numpy as np\n",
    "import tensorflow as tf\n",
    "from tensorflow import keras\n",
    "from keras.layers import *\n",
    "from keras.models import Sequential\n",
    "from keras.preprocessing import image\n",
    "from tensorflow.keras.preprocessing.image import ImageDataGenerator, img_to_array, load_img\n",
    "import os\n",
    "import numpy as np\n",
    "from tensorflow.keras.regularizers import l2"
   ]
  },
  {
   "cell_type": "code",
   "execution_count": 15,
   "id": "e2553f00-bec8-459a-beee-06d48379d49b",
   "metadata": {},
   "outputs": [],
   "source": [
    "from tensorflow.keras.backend import clear_session\n",
    "clear_session()"
   ]
  },
  {
   "cell_type": "code",
   "execution_count": 4,
   "id": "039d334f-13db-4bc2-9717-e142da0804a4",
   "metadata": {},
   "outputs": [
    {
     "name": "stdout",
     "output_type": "stream",
     "text": [
      "Collecting pydot\n",
      "  Downloading pydot-3.0.4-py3-none-any.whl.metadata (10 kB)\n",
      "Requirement already satisfied: pyparsing>=3.0.9 in c:\\users\\asus\\anaconda3\\envs\\gpu\\lib\\site-packages (from pydot) (3.2.3)\n",
      "Downloading pydot-3.0.4-py3-none-any.whl (35 kB)\n",
      "Installing collected packages: pydot\n",
      "Successfully installed pydot-3.0.4\n"
     ]
    }
   ],
   "source": [
    "!pip install pydot"
   ]
  },
  {
   "cell_type": "code",
   "execution_count": 2,
   "id": "bcda6e14-2a5b-4064-bf72-8bf0a7316c3c",
   "metadata": {},
   "outputs": [],
   "source": [
    "model = Sequential()\n",
    "model.add(Conv2D(64,kernel_size= (3,3),activation='relu' , strides= 1,input_shape=(48,48,1),padding='same'))\n",
    "model.add(Conv2D(64,kernel_size= (3,3), activation='relu', strides=1))\n",
    "model.add(MaxPooling2D(pool_size=(2,2),strides=2))\n",
    "model.add(Dropout(0.25))\n",
    "\n",
    "model.add(Conv2D(128,kernel_size= (3,3),activation='relu' , strides= 1, padding= 'same'))\n",
    "model.add(Conv2D(128,kernel_size= (3,3), activation='relu', strides=1))\n",
    "\n",
    "\n",
    "\n",
    "model.add(Conv2D(256,kernel_size= (3,3),activation='relu' , strides= 1))\n",
    "model.add(Conv2D(256,kernel_size= (3,3), activation='relu', strides=2))\n",
    "model.add(MaxPooling2D(pool_size=(2,2),strides=2))\n",
    "model.add(Dropout(0.25))\n",
    "\n",
    "model.add(Flatten())\n",
    "\n",
    "model.add(Dense(1024,activation='relu', kernel_regularizer= l2(0.001)))\n",
    "model.add(Dropout(0.5))\n",
    "model.add(Dense(7, activation= 'softmax'))"
   ]
  },
  {
   "cell_type": "code",
   "execution_count": 5,
   "id": "3a01de94-020b-4800-8f4e-e5287c5ccbb4",
   "metadata": {},
   "outputs": [
    {
     "name": "stdout",
     "output_type": "stream",
     "text": [
      "('You must install pydot (`pip install pydot`) and install graphviz (see instructions at https://graphviz.gitlab.io/download/) ', 'for plot_model/model_to_dot to work.')\n"
     ]
    }
   ],
   "source": [
    "from tensorflow.keras.utils import plot_model\n",
    "\n",
    "plot_model(model, to_file='ProposedCNNmodel.png', show_shapes=True, show_layer_names=True)"
   ]
  },
  {
   "cell_type": "code",
   "execution_count": 109,
   "id": "fbdede24-1b8c-4947-9488-8e43fe3911fc",
   "metadata": {},
   "outputs": [
    {
     "name": "stdout",
     "output_type": "stream",
     "text": [
      "Model: \"sequential_14\"\n",
      "_________________________________________________________________\n",
      "Layer (type)                 Output Shape              Param #   \n",
      "=================================================================\n",
      "conv2d_88 (Conv2D)           (None, 48, 48, 64)        640       \n",
      "_________________________________________________________________\n",
      "conv2d_89 (Conv2D)           (None, 46, 46, 64)        36928     \n",
      "_________________________________________________________________\n",
      "max_pooling2d_28 (MaxPooling (None, 23, 23, 64)        0         \n",
      "_________________________________________________________________\n",
      "dropout_27 (Dropout)         (None, 23, 23, 64)        0         \n",
      "_________________________________________________________________\n",
      "conv2d_90 (Conv2D)           (None, 23, 23, 128)       73856     \n",
      "_________________________________________________________________\n",
      "conv2d_91 (Conv2D)           (None, 21, 21, 128)       147584    \n",
      "_________________________________________________________________\n",
      "conv2d_92 (Conv2D)           (None, 19, 19, 256)       295168    \n",
      "_________________________________________________________________\n",
      "conv2d_93 (Conv2D)           (None, 9, 9, 256)         590080    \n",
      "_________________________________________________________________\n",
      "max_pooling2d_29 (MaxPooling (None, 4, 4, 256)         0         \n",
      "_________________________________________________________________\n",
      "dropout_28 (Dropout)         (None, 4, 4, 256)         0         \n",
      "_________________________________________________________________\n",
      "flatten_14 (Flatten)         (None, 4096)              0         \n",
      "_________________________________________________________________\n",
      "dense_28 (Dense)             (None, 1024)              4195328   \n",
      "_________________________________________________________________\n",
      "dropout_29 (Dropout)         (None, 1024)              0         \n",
      "_________________________________________________________________\n",
      "dense_29 (Dense)             (None, 7)                 7175      \n",
      "=================================================================\n",
      "Total params: 5,346,759\n",
      "Trainable params: 5,346,759\n",
      "Non-trainable params: 0\n",
      "_________________________________________________________________\n"
     ]
    }
   ],
   "source": [
    "model.summary()"
   ]
  },
  {
   "cell_type": "code",
   "execution_count": 110,
   "id": "4c13d9d8-10f5-4dce-b5aa-07541fc16f26",
   "metadata": {},
   "outputs": [],
   "source": [
    "train_datagen= ImageDataGenerator(rescale= 1./255)\n",
    "val_datagen= ImageDataGenerator(rescale=1./255)"
   ]
  },
  {
   "cell_type": "code",
   "execution_count": 111,
   "id": "9f5ce5ee-488b-496d-9f91-4a747eff32ae",
   "metadata": {},
   "outputs": [
    {
     "name": "stdout",
     "output_type": "stream",
     "text": [
      "Found 28709 images belonging to 7 classes.\n",
      "Found 7178 images belonging to 7 classes.\n"
     ]
    }
   ],
   "source": [
    "train_generator= train_datagen.flow_from_directory(\n",
    "    'emotion_dataset_Not_augmented/train',\n",
    "    target_size= (48,48),\n",
    "    batch_size= 64,\n",
    "    color_mode='grayscale'\n",
    "    ,class_mode= 'categorical'\n",
    ")\n",
    "val_generator= val_datagen.flow_from_directory(\n",
    "    'emotion_dataset_Not_augmented/test'\n",
    "    ,target_size =(48,48)\n",
    "    ,batch_size= 64,\n",
    "    color_mode= 'grayscale'\n",
    "    ,class_mode='categorical'\n",
    ")"
   ]
  },
  {
   "cell_type": "code",
   "execution_count": 21,
   "id": "6b67d4aa-c50e-40f0-8ede-a1d03a68311a",
   "metadata": {},
   "outputs": [
    {
     "name": "stdout",
     "output_type": "stream",
     "text": [
      "Training Data Class Count:\n",
      "\n",
      "angry: 3995 images\n",
      "disgusted: 436 images\n",
      "fearful: 4097 images\n",
      "happy: 7215 images\n",
      "neutral: 4965 images\n",
      "sad: 4830 images\n",
      "surprised: 3171 images\n",
      "\n",
      "\n",
      "Validation Data Class Counts:\n",
      "\n",
      "angry: 958 images\n",
      "disgusted: 111 images\n",
      "fearful: 1024 images\n",
      "happy: 1774 images\n",
      "neutral: 1233 images\n",
      "sad: 1247 images\n",
      "surprised: 831 images\n"
     ]
    }
   ],
   "source": [
    "from collections import Counter\n",
    "\n",
    "class_counts = Counter(train_generator.classes)\n",
    "\n",
    "\n",
    "class_labels = train_generator.class_indices \n",
    "index_to_class = {v: k for k, v in class_labels.items()}\n",
    "\n",
    "print('Training Data Class Count:\\n')\n",
    "for class_index, count in class_counts.items():\n",
    "    print(f\"{index_to_class[class_index]}: {count} images\")\n",
    "\n",
    "print('\\n')\n",
    "class_counts = Counter(val_generator.classes)\n",
    "\n",
    "\n",
    "class_labels = val_generator.class_indices \n",
    "index_to_class = {v: k for k, v in class_labels.items()}\n",
    "\n",
    "print('Validation Data Class Counts:\\n')\n",
    "for class_index, count in class_counts.items():\n",
    "    print(f\"{index_to_class[class_index]}: {count} images\")"
   ]
  },
  {
   "cell_type": "code",
   "execution_count": 112,
   "id": "dcf3e89a-4d90-4102-a17d-0b4e4618cd4b",
   "metadata": {},
   "outputs": [],
   "source": [
    "\n",
    "optimizer = keras.optimizers.Adam(learning_rate=0.0001)\n"
   ]
  },
  {
   "cell_type": "code",
   "execution_count": 113,
   "id": "4eacbe3d-24b7-471d-a775-c88d66e10f7f",
   "metadata": {},
   "outputs": [],
   "source": [
    "model.compile(loss= 'categorical_crossentropy', optimizer= optimizer, metrics=['accuracy'])"
   ]
  },
  {
   "cell_type": "code",
   "execution_count": 114,
   "id": "cce1ec29-1ef4-4fbd-99be-b027c989c8d5",
   "metadata": {},
   "outputs": [],
   "source": [
    "from tensorflow.keras.callbacks import EarlyStopping\n",
    "early_stopping = EarlyStopping(monitor='accuracy', \n",
    "                               patience=4,  \n",
    "                               restore_best_weights=True)"
   ]
  },
  {
   "cell_type": "code",
   "execution_count": 115,
   "id": "d57b9533-a936-4a11-8b02-dccfbfec3653",
   "metadata": {},
   "outputs": [
    {
     "name": "stdout",
     "output_type": "stream",
     "text": [
      "Epoch 1/15\n",
      "449/449 [==============================] - 21s 45ms/step - loss: 2.5541 - accuracy: 0.2475 - val_loss: 2.0980 - val_accuracy: 0.2657\n",
      "Epoch 2/15\n",
      "449/449 [==============================] - 25s 55ms/step - loss: 1.8645 - accuracy: 0.3707 - val_loss: 1.6832 - val_accuracy: 0.4269\n",
      "Epoch 3/15\n",
      "449/449 [==============================] - 24s 54ms/step - loss: 1.6277 - accuracy: 0.4346 - val_loss: 1.5518 - val_accuracy: 0.4565\n",
      "Epoch 4/15\n",
      "449/449 [==============================] - 23s 52ms/step - loss: 1.5012 - accuracy: 0.4714 - val_loss: 1.4347 - val_accuracy: 0.4957\n",
      "Epoch 5/15\n",
      "449/449 [==============================] - 23s 52ms/step - loss: 1.4060 - accuracy: 0.5004 - val_loss: 1.3538 - val_accuracy: 0.5180\n",
      "Epoch 6/15\n",
      "449/449 [==============================] - 24s 52ms/step - loss: 1.3364 - accuracy: 0.5267 - val_loss: 1.3249 - val_accuracy: 0.5267\n",
      "Epoch 7/15\n",
      "449/449 [==============================] - 74s 165ms/step - loss: 1.2829 - accuracy: 0.5434 - val_loss: 1.2819 - val_accuracy: 0.5415\n",
      "Epoch 8/15\n",
      "449/449 [==============================] - 209s 465ms/step - loss: 1.2414 - accuracy: 0.5642 - val_loss: 1.2524 - val_accuracy: 0.5637\n",
      "Epoch 9/15\n",
      "449/449 [==============================] - 20s 44ms/step - loss: 1.1966 - accuracy: 0.5818 - val_loss: 1.2579 - val_accuracy: 0.5600\n",
      "Epoch 10/15\n",
      "449/449 [==============================] - 22s 48ms/step - loss: 1.1551 - accuracy: 0.6008 - val_loss: 1.2236 - val_accuracy: 0.5758\n",
      "Epoch 11/15\n",
      "449/449 [==============================] - 23s 51ms/step - loss: 1.1096 - accuracy: 0.6250 - val_loss: 1.2211 - val_accuracy: 0.5790\n",
      "Epoch 12/15\n",
      "449/449 [==============================] - 24s 52ms/step - loss: 1.0696 - accuracy: 0.6436 - val_loss: 1.2304 - val_accuracy: 0.5833\n",
      "Epoch 13/15\n",
      "449/449 [==============================] - 24s 53ms/step - loss: 1.0237 - accuracy: 0.6631 - val_loss: 1.2276 - val_accuracy: 0.5953\n",
      "Epoch 14/15\n",
      "449/449 [==============================] - 24s 53ms/step - loss: 0.9781 - accuracy: 0.6838 - val_loss: 1.2213 - val_accuracy: 0.5975\n",
      "Epoch 15/15\n",
      "449/449 [==============================] - 24s 53ms/step - loss: 0.9268 - accuracy: 0.7070 - val_loss: 1.2336 - val_accuracy: 0.5972\n"
     ]
    }
   ],
   "source": [
    "history = model.fit(\n",
    "    train_generator, \n",
    "    validation_data= val_generator,\n",
    "    epochs =15, \n",
    "    shuffle = True,\n",
    "\n",
    "    \n",
    ")"
   ]
  },
  {
   "cell_type": "code",
   "execution_count": 117,
   "id": "8906b345-6ffd-447b-9b27-9bfb99b7a43d",
   "metadata": {},
   "outputs": [
    {
     "data": {
      "text/plain": [
       "Text(0.5, 1.0, 'validation_loss vs training_loss with 40epochs')"
      ]
     },
     "execution_count": 117,
     "metadata": {},
     "output_type": "execute_result"
    },
    {
     "data": {
      "image/png": "[encoded data removed]",
      "text/plain": [
       "<Figure size 640x480 with 1 Axes>"
      ]
     },
     "metadata": {},
     "output_type": "display_data"
    }
   ],
   "source": [
    "import matplotlib.pyplot as plt\n",
    "plt.plot(history.history['val_loss'], label= 'validation_loss')\n",
    "plt.plot(history.history['loss'], label = 'training_loss')\n",
    "plt.legend()\n",
    "plt.title('validation_loss vs training_loss with 40epochs')"
   ]
  },
  {
   "cell_type": "code",
   "execution_count": 118,
   "id": "a63808a8-5fd8-4aaa-ad50-21dd6f426571",
   "metadata": {},
   "outputs": [
    {
     "data": {
      "text/plain": [
       "Text(0.5, 1.0, 'validation_accuracy vs training_accuracy with 40epochs')"
      ]
     },
     "execution_count": 118,
     "metadata": {},
     "output_type": "execute_result"
    },
    {
     "data": {
      "image/png": "[encoded data removed]",
      "text/plain": [
       "<Figure size 640x480 with 1 Axes>"
      ]
     },
     "metadata": {},
     "output_type": "display_data"
    }
   ],
   "source": [
    "plt.plot(history.history['val_accuracy'], label= 'validation_accuracy')\n",
    "plt.plot(history.history['accuracy'], label = 'training_accuracy')\n",
    "plt.legend()\n",
    "plt.title('validation_accuracy vs training_accuracy with 40epochs')"
   ]
  },
  {
   "cell_type": "code",
   "execution_count": null,
   "id": "3ee304b6-da57-48ca-8dc2-b11c10932704",
   "metadata": {},
   "outputs": [],
   "source": []
  },
  {
   "cell_type": "code",
   "execution_count": null,
   "id": "b6cac400-b309-4bb7-ae6c-9ee89a1022cc",
   "metadata": {},
   "outputs": [],
   "source": []
  }
 ],
 "metadata": {
  "kernelspec": {
   "display_name": "Python 3 (ipykernel)",
   "language": "python",
   "name": "python3"
  },
  "language_info": {
   "codemirror_mode": {
    "name": "ipython",
    "version": 3
   },
   "file_extension": ".py",
   "mimetype": "text/x-python",
   "name": "python",
   "nbconvert_exporter": "python",
   "pygments_lexer": "ipython3",
   "version": "3.9.18"
  }
 },
 "nbformat": 4,
 "nbformat_minor": 5
}
